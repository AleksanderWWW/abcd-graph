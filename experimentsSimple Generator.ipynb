{
 "cells": [
  {
   "cell_type": "markdown",
   "id": "301f0bff-49a1-4639-8d65-94ab59320e5f",
   "metadata": {},
   "source": [
    "# Goals\n",
    "\n",
    "Implement the simple generating process given in \"Algorithm 2\" in our simpliciality file on Overleaf, with weighting scheme given by Example 5.1 and $\\Theta_{k}$ being exactly the set of all previously-seen hyperedges (optionally allowing \"the full graph\" with some multiplicity)"
   ]
  },
  {
   "cell_type": "code",
   "execution_count": 1,
   "id": "d5712368-d528-4613-9b5b-711a5f9ce355",
   "metadata": {},
   "outputs": [],
   "source": [
    "import numpy as np"
   ]
  },
  {
   "cell_type": "code",
   "execution_count": 2,
   "id": "6f6fb34c-cf21-4fa7-ad58-4de601407514",
   "metadata": {},
   "outputs": [],
   "source": [
    "# Create a graph according to Algorithm 2 in our Overleaf.\n",
    "\n",
    "# V: integer - number of vertices.\n",
    "# n: nd array of integers of length K_max, with n[k] being the number of hyperedges of size k+2. \n",
    "# p: ndarray of height V and width K_max, with p[v,k] being the weight of vertex v for hypergraphs of size k. If an array of length V is passed, it should be copied K_max times to make an array.\n",
    "# beta: ndarray of height V and width K_max, with beta[v,k] being the weighting scheme seen in Example 5.1. If an array of length V or K_max is passed, it should be copied to make the 2d array. If a number is passed, it should be copied to make the array.\n",
    "# Global (default = None): if not None, should be a list of integers of length K_max, with Global[k] saying how often to add the set \"all vertices\" to $\\Theta_{k}$. If an integer is passed, it should be copied K_max times to make a list.\n",
    "\n",
    "# NOTE: I make a token effort to make this modular by allowing one to sub in other strategies for e.g. \"simple_upweight\" (which would require replacing \"get_alpha\" with a generic \"get_parameters\" and replacing all of the preprocessing stuff). \n",
    "\n",
    "def Soft_CL(V,n,p,beta,Global=None,eps = (0.1)**10):\n",
    "    # Preprocessing to make sure everything is the right shape.\n",
    "    K_max = n.shape[0]\n",
    "    p = Proc_p(p,K_max)\n",
    "    beta = Proc_beta(beta,V,K_max)\n",
    "\n",
    "    # Initialize\n",
    "    H_list = [] # Elements will be the hyperedges (set objects)\n",
    "    \n",
    "    for k in range(K_max-1,-1,-1): # loop over size of hyperedge, from biggest to smallest\n",
    "        # Freeze the hyperedge list, as the algorithm does\n",
    "        Theta = H_list.copy()\n",
    "        if k == (K_max-1): # In this case the list is empty, so add the \"global\" background. Note I'm wasting computational time doing this, since I don't need to compute alpha here. Oh well.\n",
    "            Theta.append(np.array([x for x in range(V)]))\n",
    "        if Global is not None:\n",
    "            for i in range(Global[k]): # OK, this is surely a silly way to do this. Oh well.\n",
    "                Theta.append(np.array([x for x in range(V)]))\n",
    "        alpha = get_alpha(Theta,beta,V,k,eps=eps) # Compute alpha.\n",
    "        for ind in range(n[k]): # make n[k] hyperedges\n",
    "            adj_p = simple_upweight(Theta,p,V,alpha,beta,k) # Choose an element of theta, adjust p.\n",
    "            H_list.append(make_CL_edge(k+2,adj_p))\n",
    "    return(H_list)\n",
    "    "
   ]
  },
  {
   "cell_type": "code",
   "execution_count": 3,
   "id": "4cf3f734-db63-4b54-bf43-8f8e3a3751d2",
   "metadata": {},
   "outputs": [],
   "source": [
    "# Makes a single hyperedge of size k according to soft Chung-Lu with weights p.\n",
    "# CHECKED BASIC FUNCTION\n",
    "def make_CL_edge(k,p):\n",
    "    return(np.random.choice(V,size=k,p=p))"
   ]
  },
  {
   "cell_type": "code",
   "execution_count": 4,
   "id": "c7d0ee19-2964-4d09-85fb-ecfd0471710a",
   "metadata": {},
   "outputs": [],
   "source": [
    "# Computes alpha, as in Example 5.1 of Overleaf. Note that at this point k is \"fixed\" and so is not included as an index where it is not needed.\n",
    "# CHECKED BASIC FUNCTION\n",
    "def get_alpha(Theta,beta,V,k,eps = (0.1)**10):\n",
    "    # Compute gamma\n",
    "    gamma = np.zeros(V)\n",
    "    for edge in Theta:\n",
    "        for v in np.unique(edge): # Computing probabilities, so we don't want to deal with self-loops.\n",
    "            gamma[v] = gamma[v] + 1 # Doing raw counts.\n",
    "    for v in range(V):\n",
    "        gamma[v] = gamma[v]/len(Theta) # normalize\n",
    "        \n",
    "    # Compute alpha\n",
    "    alpha = np.zeros(V)\n",
    "    for v in range(V):\n",
    "        alpha[v] = (1 - beta[v,k]*(1-gamma[v]))/(eps + gamma[v]) # Include small \"eps\" value to reduce numerical issues at cost of small bias.\n",
    "    return(alpha)"
   ]
  },
  {
   "cell_type": "code",
   "execution_count": 5,
   "id": "3e466fbe-ae1d-4d30-9edd-4fccf46ca8e4",
   "metadata": {},
   "outputs": [],
   "source": [
    "# Does the simple upweight \n",
    "# CHECKED BASIC FUNCTION\n",
    "def simple_upweight(Theta,p,V,alpha,beta,k):\n",
    "    m = len(Theta)\n",
    "\n",
    "    S = Theta[np.random.randint(m)] # Choose a random hyperedge to \"be inside\"\n",
    "    adj_p = np.zeros(V)\n",
    "    for v in range(V):\n",
    "        if v in S:\n",
    "            adj_p[v] = p[v,k]*alpha[v]\n",
    "        else:\n",
    "            adj_p[v] = p[v,k]*beta[v,k]\n",
    "    tot = sum(adj_p)\n",
    "    for v in range(V):\n",
    "        adj_p[v] = adj_p[v]/tot\n",
    "    return(adj_p)"
   ]
  },
  {
   "cell_type": "code",
   "execution_count": 6,
   "id": "788a1bac-9049-457d-8460-f2871a6f2048",
   "metadata": {},
   "outputs": [],
   "source": [
    "# Preprocesses p into a matrix of the appropriate size/shape.\n",
    "# CHECKED BASIC FUNCTION\n",
    "def Proc_p(p,K_max):\n",
    "    if len(p.shape) == 2:\n",
    "        return(p)\n",
    "    if len(p.shape) == 1:\n",
    "        V = p.shape[0]\n",
    "        p = np.tile(p, K_max).reshape(K_max,V).transpose()\n",
    "        return(p)\n",
    "    return(-1) # error\n",
    "        "
   ]
  },
  {
   "cell_type": "code",
   "execution_count": 7,
   "id": "b9db346c-4468-4d47-97a6-fd1726276b87",
   "metadata": {},
   "outputs": [],
   "source": [
    "# Preprocesses beta into a matrix of the appropriate size/shape.\n",
    "# CHECKED BASIC FUNCTION\n",
    "def Proc_beta(beta,V,K_max):\n",
    "    res = np.zeros((V,K_max))\n",
    "    if type(beta) is float:\n",
    "        res.fill(beta)\n",
    "        return(res)\n",
    "    if len(beta.shape) == 2:\n",
    "        return(beta)\n",
    "    if len(beta.shape) == 1:\n",
    "        if beta.shape[0] == V:\n",
    "            beta = np.tile(beta, K_max).reshape(K_max,V).transpose()\n",
    "            return(beta)\n",
    "        if beta.shape[0] == K_max:\n",
    "            beta = np.tile(beta, V).reshape(V,K_max)\n",
    "            return(beta)\n",
    "    return(-1) # error"
   ]
  },
  {
   "cell_type": "markdown",
   "id": "fcc8420f-2cc2-4d5b-aa8d-259821ace5c1",
   "metadata": {},
   "source": [
    "## Sanity Check - does something\n",
    "\n",
    "Do the above main function and helper functions do something plausible?"
   ]
  },
  {
   "cell_type": "code",
   "execution_count": 9,
   "id": "2cd88945-7df5-4a78-8f3d-f83535feaf9d",
   "metadata": {},
   "outputs": [
    {
     "data": {
      "text/plain": [
       "[array([7, 4, 1, 8, 4]),\n",
       " array([1, 4, 4, 4]),\n",
       " array([4, 4, 1, 9]),\n",
       " array([8, 4, 7, 4]),\n",
       " array([4, 4, 8]),\n",
       " array([7, 8, 7]),\n",
       " array([4, 4, 4])]"
      ]
     },
     "execution_count": 9,
     "metadata": {},
     "output_type": "execute_result"
    }
   ],
   "source": [
    "\n",
    "# Setting up choices\n",
    "# K_max\n",
    "K_max = 4\n",
    "k=3\n",
    "\n",
    "# p\n",
    "p = np.array([0.3,2,0.45,3,8,0.22,0.5,1.2,2.3,2.5])\n",
    "p = p/sum(p)\n",
    "p = Proc_p(p,K_max)\n",
    "\n",
    "#V\n",
    "V = p.shape[0]\n",
    "\n",
    "# Theta\n",
    "Theta = []\n",
    "Theta.append([5,6,7,8])\n",
    "Theta.append([1,6,3,8])\n",
    "Theta.append([2,6,4,3])\n",
    "Theta.append([0,1,2,3,4,5,6,7,8,9])\n",
    "\n",
    "# beta\n",
    "beta = Proc_beta(0.2,V,K_max)\n",
    "\n",
    "# alpha\n",
    "alpha = get_alpha(Theta,beta,V,k)\n",
    "\n",
    "# n\n",
    "n = np.array([0,3,3,1])\n",
    "\n",
    "Soft_CL(V,n,p,beta,Global=None,eps = (0.1)**10)"
   ]
  },
  {
   "cell_type": "markdown",
   "id": "efd530f3-311a-4746-a98d-bbe8df411fc9",
   "metadata": {},
   "source": [
    "## Sanity check - not \"too slow\"\n",
    "\n",
    "Let's see how long this takes to make a graph with a a few hundred hyperedges.\n",
    "\n"
   ]
  },
  {
   "cell_type": "code",
   "execution_count": 10,
   "id": "f9a4b1b8-ea77-4eed-b01a-0ce7fb4465c2",
   "metadata": {},
   "outputs": [
    {
     "name": "stdout",
     "output_type": "stream",
     "text": [
      "CPU times: user 2.2 ms, sys: 0 ns, total: 2.2 ms\n",
      "Wall time: 2.2 ms\n"
     ]
    }
   ],
   "source": [
    "%%time\n",
    "V = 1000\n",
    "n=np.array([222,84,33,12,4,1])\n",
    "p = np.asarray([np.random.randint(15,30) for x in range(V)])\n",
    "tot = sum(p)\n",
    "for v in range(V):\n",
    "    p[v] = p[v]/tot\n",
    "beta = 0.2\n",
    "\n"
   ]
  },
  {
   "cell_type": "code",
   "execution_count": 11,
   "id": "4f03661d-96ee-4a3a-813a-05e3b0c8a534",
   "metadata": {},
   "outputs": [
    {
     "name": "stdout",
     "output_type": "stream",
     "text": [
      "CPU times: user 999 ms, sys: 0 ns, total: 999 ms\n",
      "Wall time: 999 ms\n"
     ]
    }
   ],
   "source": [
    "%%time\n",
    "res = Soft_CL(V,n,p,beta,Global=None,eps = (0.1)**10)"
   ]
  },
  {
   "cell_type": "code",
   "execution_count": 12,
   "id": "598fd56b-3881-4b1e-9d1d-c12c03f37fa3",
   "metadata": {},
   "outputs": [
    {
     "data": {
      "text/plain": [
       "356"
      ]
     },
     "execution_count": 12,
     "metadata": {},
     "output_type": "execute_result"
    }
   ],
   "source": [
    "len(res)"
   ]
  },
  {
   "cell_type": "markdown",
   "id": "63bacff1-1970-4424-a011-464d467f53f2",
   "metadata": {},
   "source": [
    "# Allowing for bias at the start\n",
    "\n",
    "Rewrite the above, allowing for a user-specified \"bias\" function."
   ]
  },
  {
   "cell_type": "code",
   "execution_count": 13,
   "id": "11d7908a-ebaf-425f-a19a-f08bd45f310d",
   "metadata": {},
   "outputs": [
    {
     "data": {
      "text/plain": [
       "[1, 4, 2]"
      ]
     },
     "execution_count": 13,
     "metadata": {},
     "output_type": "execute_result"
    }
   ],
   "source": [
    "import random\n",
    "\n",
    "random.choices([1,2,3,4,5],k=3)"
   ]
  },
  {
   "cell_type": "code",
   "execution_count": 17,
   "id": "0afb3d25-b762-46a9-85df-9776b70e4d6c",
   "metadata": {},
   "outputs": [],
   "source": [
    "# Rewriting Soft_CL with an extra optional parameter:\n",
    "\n",
    "# init_noise: a callable random number generator\n",
    "# n_init_noise: how many vertices to apply the above to\n",
    "# p_init_noise: parameters for the above\n",
    "def Soft_CL_V2(V,n,p,beta,init_noise=None, n_init_noise = None, p_init_noise = None,Global=None,eps = (0.1)**10):\n",
    "    # Preprocessing to make sure everything is the right shape.\n",
    "    K_max = n.shape[0]\n",
    "    p = Proc_p(p,K_max)\n",
    "    beta = Proc_beta(beta,V,K_max)\n",
    "\n",
    "    if init_noise is not None:\n",
    "        noisy_p = p\n",
    "        adjusted_vertices = random.choices([x for x in range(V)])\n",
    "        for v in adjusted_vertices:\n",
    "            noisy_p[v,K_max - 1] = init_noise(noisy_p[v,K_max - 1], p_init_noise)\n",
    "        tot = sum(noisy_p[:,K_max - 1])\n",
    "        for v in range(V):\n",
    "            noisy_p[v,K_max - 1] = noisy_p[v,K_max - 1]/tot\n",
    "        p = noisy_p\n",
    "        \n",
    "\n",
    "    # Initialize\n",
    "    H_list = [] # Elements will be the hyperedges (set objects)\n",
    "    \n",
    "    for k in range(K_max-1,-1,-1): # loop over size of hyperedge, from biggest to smallest\n",
    "        # Freeze the hyperedge list, as the algorithm does\n",
    "        Theta = H_list.copy()\n",
    "        if k == (K_max-1): # In this case the list is empty, so add the \"global\" background. Note I'm wasting computational time doing this, since I don't need to compute alpha here. Oh well.\n",
    "            Theta.append(np.array([x for x in range(V)]))\n",
    "        if Global is not None:\n",
    "            for i in range(Global[k]): # OK, this is surely a silly way to do this. Oh well.\n",
    "                Theta.append(np.array([x for x in range(V)]))\n",
    "        alpha = get_alpha(Theta,beta,V,k,eps=eps) # Compute alpha.\n",
    "        for ind in range(n[k]): # make n[k] hyperedges\n",
    "            adj_p = simple_upweight(Theta,p,V,alpha,beta,k) # Choose an element of theta, adjust p.\n",
    "            H_list.append(make_CL_edge(k+2,adj_p))\n",
    "    return(H_list)\n",
    "    "
   ]
  },
  {
   "cell_type": "code",
   "execution_count": 18,
   "id": "e621e3b4-a330-4a03-a68f-765b93370121",
   "metadata": {},
   "outputs": [
    {
     "data": {
      "text/plain": [
       "1.9396943425453173"
      ]
     },
     "execution_count": 18,
     "metadata": {},
     "output_type": "execute_result"
    }
   ],
   "source": [
    "# A simple \"noise function\"\n",
    "\n",
    "def exp_noise(x,scale):\n",
    "    return(np.random.exponential(x*scale))\n",
    "\n",
    "exp_noise(2,3)"
   ]
  },
  {
   "cell_type": "code",
   "execution_count": 19,
   "id": "1729fb64-8aaa-4022-8cb5-f5d8d32ccf51",
   "metadata": {},
   "outputs": [
    {
     "name": "stdout",
     "output_type": "stream",
     "text": [
      "CPU times: user 986 ms, sys: 3.63 ms, total: 989 ms\n",
      "Wall time: 989 ms\n"
     ]
    }
   ],
   "source": [
    "%%time\n",
    "res_V2 = Soft_CL_V2(V,n,p,beta,init_noise = exp_noise, n_init_noise = 12, p_init_noise=2,Global=None,eps = (0.1)**10)"
   ]
  },
  {
   "cell_type": "markdown",
   "id": "801922e9-6e60-4966-801c-303f4a47fd60",
   "metadata": {},
   "source": [
    "# SCRATCH: Trying Jordan's Statistics Function"
   ]
  },
  {
   "cell_type": "code",
   "execution_count": 21,
   "id": "efbc6490-25a1-44a5-88cd-51ddfa87ae17",
   "metadata": {},
   "outputs": [],
   "source": [
    "import HypergraphFunctions as hf"
   ]
  },
  {
   "cell_type": "code",
   "execution_count": 22,
   "id": "47d45408-c691-4d65-ab50-b0779f98a048",
   "metadata": {},
   "outputs": [],
   "source": [
    "\n",
    "# Setting up choices\n",
    "# K_max\n",
    "K_max = 4\n",
    "\n",
    "# p\n",
    "m1 = 200\n",
    "m2 = 200\n",
    "p = np.array([0.3]*m1 + [1.1]*m2)\n",
    "p = p/sum(p)\n",
    "p = Proc_p(p,K_max)\n",
    "\n",
    "#V\n",
    "V = p.shape[0]\n",
    "\n",
    "# beta\n",
    "beta = Proc_beta(0.2,V,K_max)\n",
    "\n",
    "\n",
    "# n\n",
    "n = np.array([0,55,32,4])\n",
    "\n",
    "X = Soft_CL(V,n,p,beta,Global=None,eps = (0.1)**10)"
   ]
  },
  {
   "cell_type": "code",
   "execution_count": 27,
   "id": "7584bbcb-e5a2-4c79-b30e-6ae435fb720d",
   "metadata": {},
   "outputs": [],
   "source": [
    "# The expected input for Jordan's SimplicialMatrix function looks like:\n",
    "\n",
    "vertices = [x for x in range(V)]\n",
    "edges = X"
   ]
  },
  {
   "cell_type": "code",
   "execution_count": 39,
   "id": "ac03d0ca-9256-4e08-9e80-037de4a8c3cf",
   "metadata": {},
   "outputs": [
    {
     "data": {
      "text/plain": [
       "[[0, 0, 0, 0, 0, 0],\n",
       " [0, 0, 0, 0, 0, 0],\n",
       " [0, 0, 0, 0, 0, 0],\n",
       " [0, 0, 0, 0, 11, 1],\n",
       " [0, 0, 0, 0, 0, 1],\n",
       " [0, 0, 0, 0, 0, 0]]"
      ]
     },
     "execution_count": 39,
     "metadata": {},
     "output_type": "execute_result"
    }
   ],
   "source": [
    "hf.simplicialMatrix(vertices,edges)"
   ]
  },
  {
   "cell_type": "code",
   "execution_count": 40,
   "id": "7edbaf38-c287-4e1e-8dcc-5055256cb4d4",
   "metadata": {},
   "outputs": [
    {
     "data": {
      "text/plain": [
       "[[0, 0, 0, 0, 0, 0],\n",
       " [0, 0, 0, 0, 0, 0],\n",
       " [0, 0, 0, 0, 0, 0],\n",
       " [0, 0, 0, 0, 0, 0],\n",
       " [0, 0, 0, 0, 0, 0],\n",
       " [0, 0, 0, 0, 0, 0]]"
      ]
     },
     "execution_count": 40,
     "metadata": {},
     "output_type": "execute_result"
    }
   ],
   "source": [
    "cl_vertices, cl_edges = ChungLu(vertices,edges)\n",
    "hf.simplicialMatrix(cl_vertices,cl_edges)"
   ]
  },
  {
   "cell_type": "markdown",
   "id": "f1aaaaa0-befb-485f-bbd3-66fd3db779b6",
   "metadata": {},
   "source": [
    "# Trying to empirically fit real data...\n",
    "\n",
    "I'm going to load a real hypergraph, then try to \"match\" it to my model as well as I can by tweaking the single parameter beta...\n",
    "\n",
    "Note that there is no reason to expect this to \"work well\" with a single parameter. We can presumably do much better by allowing many parameters (and extending the model), but for now we're not doing that."
   ]
  },
  {
   "cell_type": "code",
   "execution_count": 41,
   "id": "8b0035b2-c351-48b3-a9dd-91d0ab7e2977",
   "metadata": {},
   "outputs": [],
   "source": [
    "import ReadHypergraph as rh"
   ]
  },
  {
   "cell_type": "code",
   "execution_count": 71,
   "id": "7531210b-b05c-41bb-ae10-e24362a7a7a1",
   "metadata": {},
   "outputs": [
    {
     "data": {
      "text/plain": [
       "[[0, 0, 0, 0, 0, 0],\n",
       " [0, 0, 0, 0, 0, 0],\n",
       " [0, 0, 0, 1938, 347, 20],\n",
       " [0, 0, 0, 0, 190, 12],\n",
       " [0, 0, 0, 0, 0, 0],\n",
       " [0, 0, 0, 0, 0, 0]]"
      ]
     },
     "execution_count": 71,
     "metadata": {},
     "output_type": "execute_result"
    }
   ],
   "source": [
    "# Read the graph, compute simpliciality matrix\n",
    "h_vertices, h_edges = rh.readHG(\"hospital-lyon-simple.txt\")\n",
    "h_SM = hf.simplicialMatrix(h_vertices,h_edges)\n",
    "h_SM"
   ]
  },
  {
   "cell_type": "code",
   "execution_count": 66,
   "id": "9d550c46-77c3-4779-a8e8-4db788f245df",
   "metadata": {},
   "outputs": [],
   "source": [
    "# Given output of rh.readHG, get parameters for SoftCL model\n",
    "def extractParams(vertices,edges):\n",
    "\n",
    "    # Get number of hyperedges of each size\n",
    "    h_sorted_edges = hf.sortBySize(h_edges)\n",
    "    h_deg_list = [[x,len(h_sorted_edges[x])] for x in h_sorted_edges.keys()]\n",
    "    \n",
    "    # Get degree of each vertex\n",
    "    h_degrees = degrees(h_vertices,h_edges)\n",
    "    h_degrees = [x for x in h_degrees.values()]\n",
    "\n",
    "    # K_max\n",
    "    K_max = h_deg_list[len(h_deg_list)-1][0]\n",
    "    \n",
    "    # p\n",
    "    p = np.asarray([x/sum(h_degrees) for x in h_degrees])\n",
    "    p = Proc_p(p,K_max)\n",
    "    \n",
    "    #V\n",
    "    V = p.shape[0]\n",
    "    \n",
    "    # beta\n",
    "    beta_0 = Proc_beta(0.2,V,K_max)\n",
    "    \n",
    "    # n\n",
    "    n = [x[1] for x in h_deg_list]\n",
    "    n = np.asarray(n)\n",
    "\n",
    "    return(V,n,p,beta)"
   ]
  },
  {
   "cell_type": "code",
   "execution_count": 74,
   "id": "2412749e-9934-45e1-be80-0a8731bf6542",
   "metadata": {},
   "outputs": [],
   "source": [
    "# Run it...\n",
    "V,n,p,beta = extractParams(h_vertices,h_edges)\n",
    "\n",
    "sample = Soft_CL(V,n,p,beta,Global=None,eps = (0.1)**10)\n",
    "s_vertices = [x for x in range(V)]\n",
    "s_edges = sample\n",
    "s_mat = hf.simplicialMatrix(s_vertices,s_edges)"
   ]
  },
  {
   "cell_type": "code",
   "execution_count": 82,
   "id": "f94fc951-9e50-49e4-98bf-0ff27f1a84ef",
   "metadata": {},
   "outputs": [],
   "source": [
    "# Let's do stochastic gradient descent.\n",
    "\n",
    "def OptimizeBeta(beta_0, V,n,p, comp_function, T=100, T_steps = None, eps = (0.1)**5):\n",
    "    if T_steps is None:\n",
    "        T_steps = [1/(x+1) for x in range(T)]\n",
    "    vertices = [x for x in range(V)]\n",
    "    beta = beta_0\n",
    "    beta_list = [beta_0]\n",
    "    for t in T_steps:\n",
    "        sample = Soft_CL(V,n,p,beta,Global=None,eps = (0.1)**10)\n",
    "        edges = sample\n",
    "        h_SM = hf.simplicialMatrix(h_vertices,h_edges)\n",
    "        beta = min(1-eps,max(eps,beta + t*comp_function(h_SM)))\n",
    "        beta_list.append(beta)\n",
    "    return(beta_list)"
   ]
  },
  {
   "cell_type": "code",
   "execution_count": 88,
   "id": "08e71cc6-68b5-479a-9d06-837ab28d42c6",
   "metadata": {},
   "outputs": [],
   "source": [
    "from functools import partial\n",
    "\n",
    "def mat_comp(A,B):\n",
    "    m_a = len(A)\n",
    "    m_b = len(B)\n",
    "    n_a = len(A[0])\n",
    "    n_b = len(B[0])\n",
    "    if m_a != m_b:\n",
    "        return(0)\n",
    "    if n_a != n_b:\n",
    "        return(0)\n",
    "    tot = 0\n",
    "    for i in range(m_a):\n",
    "        for j in range(n_a):\n",
    "            tot += A[i][j] - B[i][j]\n",
    "    if tot > 0:\n",
    "        return -1\n",
    "    return 1\n",
    "\n",
    "hosp_comp = partial(mat_comp,h_SM)"
   ]
  },
  {
   "cell_type": "code",
   "execution_count": 89,
   "id": "8e2d6bb5-e84b-444b-985e-f04e8c93fa3a",
   "metadata": {},
   "outputs": [
    {
     "name": "stdout",
     "output_type": "stream",
     "text": [
      "CPU times: user 43.5 s, sys: 58.5 ms, total: 43.6 s\n",
      "Wall time: 43.6 s\n"
     ]
    }
   ],
   "source": [
    "%%time\n",
    "# Trying it out\n",
    "beta_0 = 0.2\n",
    "foo = OptimizeBeta(beta_0, V,n,p, hosp_comp, T=100, T_steps = None, eps = (0.1)**5)"
   ]
  },
  {
   "cell_type": "code",
   "execution_count": 92,
   "id": "43765f98-1fe8-4cac-87b9-e888d5426149",
   "metadata": {},
   "outputs": [
    {
     "data": {
      "text/plain": [
       "0.99999"
      ]
     },
     "execution_count": 92,
     "metadata": {},
     "output_type": "execute_result"
    }
   ],
   "source": [
    "# Not great\n",
    "foo[99]"
   ]
  },
  {
   "cell_type": "code",
   "execution_count": null,
   "id": "fa2c0782-5b5c-40c0-adc8-9418d796f24b",
   "metadata": {},
   "outputs": [],
   "source": []
  }
 ],
 "metadata": {
  "kernelspec": {
   "display_name": "Python [conda env:.conda-WTF]",
   "language": "python",
   "name": "conda-env-.conda-WTF-py"
  },
  "language_info": {
   "codemirror_mode": {
    "name": "ipython",
    "version": 3
   },
   "file_extension": ".py",
   "mimetype": "text/x-python",
   "name": "python",
   "nbconvert_exporter": "python",
   "pygments_lexer": "ipython3",
   "version": "3.11.5"
  }
 },
 "nbformat": 4,
 "nbformat_minor": 5
}
