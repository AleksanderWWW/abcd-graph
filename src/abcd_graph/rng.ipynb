{
 "cells": [
  {
   "cell_type": "code",
   "execution_count": 32,
   "id": "c19ccb35-ba63-4446-a6e1-b526f66cadf4",
   "metadata": {},
   "outputs": [],
   "source": [
    "import numpy as np"
   ]
  },
  {
   "cell_type": "markdown",
   "id": "aab8e6e9-90d1-4da4-a27d-2a5bbcd87a35",
   "metadata": {},
   "source": [
    "The random number generator."
   ]
  },
  {
   "cell_type": "code",
   "execution_count": 34,
   "id": "46d34b4c-70ae-490d-875f-539938531148",
   "metadata": {},
   "outputs": [],
   "source": [
    "class RNG:\n",
    "    def __init__(self, bin_size: int) -> None:\n",
    "        self.bin_size = bin_size\n",
    "        self.pointer = 0\n",
    "        self.numbers = np.random.rand(self.bin_size)\n",
    "\n",
    "    def _refresh(self, bin_size: int) -> None:\n",
    "        self.bin_size = bin_size\n",
    "        self.pointer = 0\n",
    "        self.numbers = np.random.rand(self.bin_size)\n",
    "    \n",
    "    def _next(self) -> None:\n",
    "        X = self.numbers[self.pointer]\n",
    "        self.pointer += 1\n",
    "        if self.pointer >= self.bin_size:\n",
    "            self._refresh(self.bin_size)\n",
    "        return X\n",
    "\n",
    "    def get_random(self, max_size: int) -> int:\n",
    "        return int(np.floor(max_size * self._next()))"
   ]
  },
  {
   "cell_type": "markdown",
   "id": "a6e9a41c-fc47-440b-a1fe-30d4dc186ced",
   "metadata": {},
   "source": [
    "Each community (including the background graph) could then get its own random number generator, which would be initalized once we know how many loops and multi-edges there are."
   ]
  },
  {
   "cell_type": "code",
   "execution_count": 46,
   "id": "f821c9c8-f1fa-4d94-b84a-04add9a315f3",
   "metadata": {},
   "outputs": [
    {
     "ename": "NameError",
     "evalue": "name 'AbstractGraph' is not defined",
     "output_type": "error",
     "traceback": [
      "\u001b[0;31m---------------------------------------------------------------------------\u001b[0m",
      "\u001b[0;31mNameError\u001b[0m                                 Traceback (most recent call last)",
      "Cell \u001b[0;32mIn[46], line 1\u001b[0m\n\u001b[0;32m----> 1\u001b[0m \u001b[38;5;28;01mclass\u001b[39;00m \u001b[38;5;21;01mAbstractCommunity\u001b[39;00m(\u001b[43mAbstractGraph\u001b[49m):\n\u001b[1;32m      2\u001b[0m     \u001b[38;5;28;01mdef\u001b[39;00m \u001b[38;5;21m__init__\u001b[39m(\u001b[38;5;28mself\u001b[39m, edges: \u001b[38;5;28mlist\u001b[39m[Edge], community_id: \u001b[38;5;28mint\u001b[39m) \u001b[38;5;241m-\u001b[39m\u001b[38;5;241m>\u001b[39m \u001b[38;5;28;01mNone\u001b[39;00m:\n\u001b[1;32m      3\u001b[0m         \u001b[38;5;28mself\u001b[39m\u001b[38;5;241m.\u001b[39mcommunity_id \u001b[38;5;241m=\u001b[39m community_id\n",
      "\u001b[0;31mNameError\u001b[0m: name 'AbstractGraph' is not defined"
     ]
    }
   ],
   "source": [
    "class AbstractCommunity(AbstractGraph):\n",
    "    def __init__(self, edges: list[Edge], community_id: int) -> None:\n",
    "        self.community_id = community_id\n",
    "        self._adj_dict: dict[Edge, int] = {}\n",
    "        self._bad_edges: list[Edge] = []\n",
    "\n",
    "        self._diagnostics = {\n",
    "            \"num_loops\": 0,\n",
    "            \"num_multi_edges\": 0,\n",
    "        }\n",
    "\n",
    "        for edge in edges:\n",
    "            if edge.is_loop:\n",
    "                self._bad_edges.append(edge)\n",
    "                self._diagnostics[\"num_loops\"] += 1\n",
    "\n",
    "            if edge in self.adj_dict:\n",
    "                self._bad_edges.append(edge)\n",
    "                self._adj_dict[edge] += 1\n",
    "                self._diagnostics[\"num_multi_edges\"] += 1\n",
    "            else:\n",
    "                self._adj_dict[edge] = 1\n",
    "\n",
    "        self._edges = edges\n",
    "        \n",
    "        ########################################\n",
    "        num_bad = self._diagnostics[\"num_loops\"] + self._diagnostics[\"num_multi_edges\"]\n",
    "        bin_size = num_bad * (num_bad + 1) / 2 #This is the maximum possible number of rewirings \n",
    "        self._rng = RNG(bin_size)\n",
    "        ########################################"
   ]
  },
  {
   "cell_type": "markdown",
   "id": "8a198b46-3a98-4f47-8895-cbbcba15cb85",
   "metadata": {},
   "source": [
    "Now, during rewiring, we call from self._rng"
   ]
  },
  {
   "cell_type": "code",
   "execution_count": 47,
   "id": "015fdb18-9f9d-425d-9882-0f03418247b5",
   "metadata": {},
   "outputs": [],
   "source": [
    " def rewire_community(self) -> None:\n",
    "    while len(self._bad_edges) > 0:\n",
    "        for edge in self._bad_edges:\n",
    "            ##########################################\n",
    "            other_edge = choose_other_edge(self, edge)\n",
    "            ##########################################\n",
    "            rewire_edge(self.adj_dict, edge, other_edge)\n",
    "\n",
    "        new_bad_edges = build_recycle_list(self.adj_dict)\n",
    "        if len(new_bad_edges) >= len(self._bad_edges):\n",
    "            self.push_to_background(new_bad_edges, self._deg_b)\n",
    "            return\n",
    "        else:\n",
    "            self._bad_edges = new_bad_edges\n",
    "\n",
    "def choose_other_edge(community: \"Community\", edge: \"Edge\") -> \"Edge\":\n",
    "    choices = list(community.adj_dict.keys())\n",
    "    other_edge = choices[community._rng.get_random(len(choices))]\n",
    "    while other_edge == edge:\n",
    "        other_edge = choices[community._rng.get_random(len(choices))]\n",
    "\n",
    "    return other_edge"
   ]
  },
  {
   "cell_type": "markdown",
   "id": "1c471a3d-37b4-430e-b14e-88987e8faf0c",
   "metadata": {},
   "source": [
    "Same deal for the background graph.\n",
    "This time, \"self\" isn't a community though. Not sure how to deal with this."
   ]
  },
  {
   "cell_type": "code",
   "execution_count": null,
   "id": "4aef73a0-bc81-45f9-99ee-4076a8cf18a5",
   "metadata": {},
   "outputs": [],
   "source": [
    "def rewire_graph(self) -> \"ABCDGraph\":\n",
    "    bad_edges = build_recycle_list(self._adj_dict)\n",
    "\n",
    "    while len(bad_edges) > 0:\n",
    "        for edge in bad_edges:\n",
    "            other_edge = choose_other_edge(self, edge)\n",
    "            rewire_edge(self._adj_dict, edge, other_edge)\n",
    "\n",
    "        bad_edges = build_recycle_list(self._adj_dict)\n",
    "\n",
    "    return self"
   ]
  }
 ],
 "metadata": {
  "kernelspec": {
   "display_name": "Graph environment",
   "language": "python",
   "name": "graph_env"
  },
  "language_info": {
   "codemirror_mode": {
    "name": "ipython",
    "version": 3
   },
   "file_extension": ".py",
   "mimetype": "text/x-python",
   "name": "python",
   "nbconvert_exporter": "python",
   "pygments_lexer": "ipython3",
   "version": "3.11.9"
  }
 },
 "nbformat": 4,
 "nbformat_minor": 5
}
